{
 "cells": [
  {
   "cell_type": "markdown",
   "id": "fdb5024a",
   "metadata": {},
   "source": [
    "# Q.1 "
   ]
  },
  {
   "cell_type": "markdown",
   "id": "c38154b4",
   "metadata": {},
   "source": [
    "Tuple is nothing but the data structure used in python where we can store immutable ordered sequence of elements. immutable means we cannot replace the elements"
   ]
  },
  {
   "cell_type": "code",
   "execution_count": 1,
   "id": "82cbfc7e",
   "metadata": {},
   "outputs": [],
   "source": [
    "t = (1,2,3,4,5,3,22)"
   ]
  },
  {
   "cell_type": "code",
   "execution_count": 2,
   "id": "def67212",
   "metadata": {},
   "outputs": [
    {
     "data": {
      "text/plain": [
       "(1, 2, 3, 4, 5, 3, 22)"
      ]
     },
     "execution_count": 2,
     "metadata": {},
     "output_type": "execute_result"
    }
   ],
   "source": [
    "t"
   ]
  },
  {
   "cell_type": "markdown",
   "id": "c0145fdd",
   "metadata": {},
   "source": [
    "# Q.2"
   ]
  },
  {
   "cell_type": "markdown",
   "id": "7d321c09",
   "metadata": {},
   "source": [
    "So to create a tuple we use paranthesis and stored the ordered immutable elements in it "
   ]
  },
  {
   "cell_type": "code",
   "execution_count": 3,
   "id": "d6a862ba",
   "metadata": {},
   "outputs": [],
   "source": [
    "t = (1,2,3,4,3,2,\"sanket \")"
   ]
  },
  {
   "cell_type": "code",
   "execution_count": 4,
   "id": "04b209d5",
   "metadata": {},
   "outputs": [
    {
     "data": {
      "text/plain": [
       "tuple"
      ]
     },
     "execution_count": 4,
     "metadata": {},
     "output_type": "execute_result"
    }
   ],
   "source": [
    "type(t)"
   ]
  },
  {
   "cell_type": "markdown",
   "id": "165d6b8c",
   "metadata": {},
   "source": [
    "# Q.3"
   ]
  },
  {
   "cell_type": "markdown",
   "id": "198796a9",
   "metadata": {},
   "source": [
    "so basically list is mutable and tuple is immutable.  other difference is we use square bracket to store the elements in the list and while storing elements in a tuple we use paranthesis "
   ]
  },
  {
   "cell_type": "markdown",
   "id": "d479a94e",
   "metadata": {},
   "source": [
    "# Q.4"
   ]
  },
  {
   "cell_type": "markdown",
   "id": "26052b81",
   "metadata": {},
   "source": [
    "No. because tuples are immutable so they cannot be changed after they created."
   ]
  },
  {
   "cell_type": "markdown",
   "id": "d0384d4c",
   "metadata": {},
   "source": [
    "# Q.5"
   ]
  },
  {
   "cell_type": "markdown",
   "id": "8caf7fce",
   "metadata": {},
   "source": [
    "so to access tuple elements who use slicing operation"
   ]
  },
  {
   "cell_type": "code",
   "execution_count": 6,
   "id": "4cfd847d",
   "metadata": {},
   "outputs": [
    {
     "data": {
      "text/plain": [
       "2"
      ]
     },
     "execution_count": 6,
     "metadata": {},
     "output_type": "execute_result"
    }
   ],
   "source": [
    "t[1]"
   ]
  },
  {
   "cell_type": "code",
   "execution_count": 7,
   "id": "a45e7966",
   "metadata": {},
   "outputs": [
    {
     "data": {
      "text/plain": [
       "4"
      ]
     },
     "execution_count": 7,
     "metadata": {},
     "output_type": "execute_result"
    }
   ],
   "source": [
    "t[3]"
   ]
  },
  {
   "cell_type": "markdown",
   "id": "5fed43e2",
   "metadata": {},
   "source": [
    "# Q.6"
   ]
  },
  {
   "cell_type": "code",
   "execution_count": 8,
   "id": "1563e3c7",
   "metadata": {},
   "outputs": [],
   "source": [
    "t = (1,2,3,4,5,6,7)"
   ]
  },
  {
   "cell_type": "code",
   "execution_count": 9,
   "id": "cc7ebfda",
   "metadata": {},
   "outputs": [
    {
     "data": {
      "text/plain": [
       "[1, 2, 3, 4, 5, 6, 7]"
      ]
     },
     "execution_count": 9,
     "metadata": {},
     "output_type": "execute_result"
    }
   ],
   "source": [
    "list(t)"
   ]
  },
  {
   "cell_type": "code",
   "execution_count": null,
   "id": "f201a899",
   "metadata": {},
   "outputs": [],
   "source": []
  }
 ],
 "metadata": {
  "kernelspec": {
   "display_name": "Python 3 (ipykernel)",
   "language": "python",
   "name": "python3"
  },
  "language_info": {
   "codemirror_mode": {
    "name": "ipython",
    "version": 3
   },
   "file_extension": ".py",
   "mimetype": "text/x-python",
   "name": "python",
   "nbconvert_exporter": "python",
   "pygments_lexer": "ipython3",
   "version": "3.9.16"
  }
 },
 "nbformat": 4,
 "nbformat_minor": 5
}
